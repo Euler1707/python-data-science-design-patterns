{
 "cells": [
  {
   "cell_type": "markdown",
   "metadata": {},
   "source": [
    "# Pipeline Design Pattern in Python"
   ]
  },
  {
   "cell_type": "markdown",
   "metadata": {
    "toc": true
   },
   "source": [
    "<h1>Table of Contents<span class=\"tocSkip\"></span></h1>\n",
    "<div class=\"toc\"><ul class=\"toc-item\"><li><span><a href=\"#Use-case\" data-toc-modified-id=\"Use-case-1\"><span class=\"toc-item-num\">1&nbsp;&nbsp;</span>Use case</a></span></li><li><span><a href=\"#Key-elements\" data-toc-modified-id=\"Key-elements-2\"><span class=\"toc-item-num\">2&nbsp;&nbsp;</span>Key elements</a></span></li><li><span><a href=\"#Define-classes\" data-toc-modified-id=\"Define-classes-3\"><span class=\"toc-item-num\">3&nbsp;&nbsp;</span>Define classes</a></span><ul class=\"toc-item\"><li><span><a href=\"#Data-objects\" data-toc-modified-id=\"Data-objects-3.1\"><span class=\"toc-item-num\">3.1&nbsp;&nbsp;</span>Data objects</a></span></li><li><span><a href=\"#Processor-classes\" data-toc-modified-id=\"Processor-classes-3.2\"><span class=\"toc-item-num\">3.2&nbsp;&nbsp;</span>Processor classes</a></span><ul class=\"toc-item\"><li><span><a href=\"#Base-class\" data-toc-modified-id=\"Base-class-3.2.1\"><span class=\"toc-item-num\">3.2.1&nbsp;&nbsp;</span>Base class</a></span></li><li><span><a href=\"#Actual-processors\" data-toc-modified-id=\"Actual-processors-3.2.2\"><span class=\"toc-item-num\">3.2.2&nbsp;&nbsp;</span>Actual processors</a></span></li></ul></li><li><span><a href=\"#Pipeline-class\" data-toc-modified-id=\"Pipeline-class-3.3\"><span class=\"toc-item-num\">3.3&nbsp;&nbsp;</span>Pipeline class</a></span></li></ul></li><li><span><a href=\"#Execute\" data-toc-modified-id=\"Execute-4\"><span class=\"toc-item-num\">4&nbsp;&nbsp;</span>Execute</a></span><ul class=\"toc-item\"><li><span><a href=\"#Set-up-Pipeline\" data-toc-modified-id=\"Set-up-Pipeline-4.1\"><span class=\"toc-item-num\">4.1&nbsp;&nbsp;</span>Set up Pipeline</a></span></li><li><span><a href=\"#Add-Domains-and-run\" data-toc-modified-id=\"Add-Domains-and-run-4.2\"><span class=\"toc-item-num\">4.2&nbsp;&nbsp;</span>Add Domains and run</a></span></li><li><span><a href=\"#Possible-refinements\" data-toc-modified-id=\"Possible-refinements-4.3\"><span class=\"toc-item-num\">4.3&nbsp;&nbsp;</span>Possible refinements</a></span></li></ul></li><li><span><a href=\"#Advantages\" data-toc-modified-id=\"Advantages-5\"><span class=\"toc-item-num\">5&nbsp;&nbsp;</span>Advantages</a></span></li></ul></div>"
   ]
  },
  {
   "cell_type": "markdown",
   "metadata": {},
   "source": [
    "## Use case\n",
    "\n",
    "Perform a number of processing steps on multiple uniform data objects.\n",
    "\n",
    "In data science, e.g. for data preprocessing or feature extractions.\n",
    "\n",
    "Even though it's usually called 'pipeline', 'conveyor belt' would often be a more fitting name."
   ]
  },
  {
   "cell_type": "markdown",
   "metadata": {},
   "source": [
    "## Key elements\n",
    "- **Data objects**\n",
    "- **Processor classes** with uniform interface to perform the processing steps\n",
    "- A **pipeline class**, which handles the processing\n",
    "\n",
    "... like in `sklearn` ..."
   ]
  },
  {
   "cell_type": "markdown",
   "metadata": {},
   "source": [
    "## Define classes"
   ]
  },
  {
   "cell_type": "markdown",
   "metadata": {},
   "source": [
    "### Data objects"
   ]
  },
  {
   "cell_type": "code",
   "execution_count": 1,
   "metadata": {},
   "outputs": [],
   "source": [
    "from dataclasses import dataclass  # for python < 3.7\n",
    "\n",
    "@dataclass\n",
    "class TextObject:\n",
    "    text: str\n",
    "    language: str = None\n",
    "    sentiment: str = None"
   ]
  },
  {
   "cell_type": "code",
   "execution_count": 2,
   "metadata": {},
   "outputs": [
    {
     "data": {
      "text/plain": [
       "TextObject(text='This is an example for a text!', sentiment=None, language=None)"
      ]
     },
     "execution_count": 2,
     "metadata": {},
     "output_type": "execute_result"
    }
   ],
   "source": [
    "my_text = TextObject('This is an example for a text!')\n",
    "my_text"
   ]
  },
  {
   "cell_type": "markdown",
   "metadata": {},
   "source": [
    "### Processor classes"
   ]
  },
  {
   "cell_type": "markdown",
   "metadata": {},
   "source": [
    "#### Base class"
   ]
  },
  {
   "cell_type": "code",
   "execution_count": 3,
   "metadata": {},
   "outputs": [],
   "source": [
    "class Processor(object):\n",
    "    def __init__(self):\n",
    "        print(f\"Initializing {self.__class__.__name__}\")"
   ]
  },
  {
   "cell_type": "markdown",
   "metadata": {},
   "source": [
    "#### Actual processors"
   ]
  },
  {
   "cell_type": "code",
   "execution_count": 4,
   "metadata": {},
   "outputs": [],
   "source": [
    "import langdetect\n",
    "\n",
    "class LanguageDetector(Processor):\n",
    "    \n",
    "    def process(self, text_object):\n",
    "        detected_languages = langdetect.detect_langs(text_object.text)\n",
    "        if len(detected_languages) > 0:\n",
    "            text_object.language = sorted(detected_languages, key=lambda x: x.prob, reverse=True)[0].lang\n",
    "            "
   ]
  },
  {
   "cell_type": "code",
   "execution_count": 5,
   "metadata": {},
   "outputs": [],
   "source": [
    "import textblob\n",
    "\n",
    "class SentimentDetector(Processor):\n",
    "        \n",
    "    def process(self, text_object):\n",
    "        if text_object.language == 'en':\n",
    "            text_object.sentiment = textblob.TextBlob(text_object.text).sentiment.polarity"
   ]
  },
  {
   "cell_type": "markdown",
   "metadata": {},
   "source": [
    "### Pipeline class"
   ]
  },
  {
   "cell_type": "code",
   "execution_count": 6,
   "metadata": {},
   "outputs": [],
   "source": [
    "@dataclass\n",
    "class Pipeline(object):\n",
    "    processors: list\n",
    "\n",
    "    def run(self, texts):\n",
    "        \"\"\"Iterate over all texts and apply processors\"\"\"\n",
    "        for text in texts:\n",
    "            for processor in processors:\n",
    "                processor.process(text)"
   ]
  },
  {
   "cell_type": "markdown",
   "metadata": {},
   "source": [
    "## Execute"
   ]
  },
  {
   "cell_type": "markdown",
   "metadata": {},
   "source": [
    "### Set up Pipeline"
   ]
  },
  {
   "cell_type": "code",
   "execution_count": 7,
   "metadata": {},
   "outputs": [
    {
     "name": "stdout",
     "output_type": "stream",
     "text": [
      "Initializing LanguageDetector\n",
      "Initializing SentimentDetector\n"
     ]
    }
   ],
   "source": [
    "processors = [\n",
    "    LanguageDetector(),\n",
    "    SentimentDetector(),\n",
    "]\n",
    "\n",
    "pipeline = Pipeline(processors)"
   ]
  },
  {
   "cell_type": "markdown",
   "metadata": {},
   "source": [
    "### Add Domains and run"
   ]
  },
  {
   "cell_type": "code",
   "execution_count": 8,
   "metadata": {},
   "outputs": [],
   "source": [
    "texts = [\n",
    "    TextObject(\"Hello World. I am happy. Today is a good day.\"),\n",
    "    TextObject('Dieser Satz ist auf Deutsch.'),\n",
    "]\n",
    "\n",
    "pipeline.run(texts)"
   ]
  },
  {
   "cell_type": "code",
   "execution_count": 9,
   "metadata": {
    "scrolled": true
   },
   "outputs": [
    {
     "data": {
      "text/plain": [
       "[TextObject(text='Hello World. I am happy. Today is a good day.', sentiment=0.75, language='en'),\n",
       " TextObject(text='Dieser Satz ist auf Deutsch.', sentiment=None, language='de')]"
      ]
     },
     "execution_count": 9,
     "metadata": {},
     "output_type": "execute_result"
    }
   ],
   "source": [
    "texts"
   ]
  },
  {
   "cell_type": "markdown",
   "metadata": {},
   "source": [
    "### Possible refinements\n",
    "- process method return code, stop further processing -> Filter\n",
    "- Check which processors have already run\n",
    "- separate raw / added data"
   ]
  },
  {
   "cell_type": "markdown",
   "metadata": {},
   "source": [
    "## Advantages\n",
    "- Easily remove/add processing steps or features\n",
    "- Same steps/processors for training and model application\n",
    "- Modularity\n",
    "- Readibility\n",
    "- Testing\n",
    "- Single responsibiliy\n",
    "- High-level structure\n",
    "- Easily parallelizable"
   ]
  }
 ],
 "metadata": {
  "hide_input": false,
  "kernelspec": {
   "display_name": "Python 3",
   "language": "python",
   "name": "python3"
  },
  "language_info": {
   "codemirror_mode": {
    "name": "ipython",
    "version": 3
   },
   "file_extension": ".py",
   "mimetype": "text/x-python",
   "name": "python",
   "nbconvert_exporter": "python",
   "pygments_lexer": "ipython3",
   "version": "3.6.7"
  },
  "toc": {
   "base_numbering": 1,
   "nav_menu": {},
   "number_sections": true,
   "sideBar": true,
   "skip_h1_title": true,
   "title_cell": "Table of Contents",
   "title_sidebar": "Contents",
   "toc_cell": true,
   "toc_position": {
    "height": "calc(100% - 180px)",
    "left": "10px",
    "top": "150px",
    "width": "244.2px"
   },
   "toc_section_display": true,
   "toc_window_display": true
  },
  "varInspector": {
   "cols": {
    "lenName": 16,
    "lenType": 16,
    "lenVar": 40
   },
   "kernels_config": {
    "python": {
     "delete_cmd_postfix": "",
     "delete_cmd_prefix": "del ",
     "library": "var_list.py",
     "varRefreshCmd": "print(var_dic_list())"
    },
    "r": {
     "delete_cmd_postfix": ") ",
     "delete_cmd_prefix": "rm(",
     "library": "var_list.r",
     "varRefreshCmd": "cat(var_dic_list()) "
    }
   },
   "types_to_exclude": [
    "module",
    "function",
    "builtin_function_or_method",
    "instance",
    "_Feature"
   ],
   "window_display": false
  }
 },
 "nbformat": 4,
 "nbformat_minor": 2
}
